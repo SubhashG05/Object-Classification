{
  "nbformat": 4,
  "nbformat_minor": 0,
  "metadata": {
    "colab": {
      "name": "SG_Transfer_Learning_with_tensorflow.ipynb",
      "provenance": [],
      "collapsed_sections": []
    },
    "kernelspec": {
      "name": "python3",
      "display_name": "Python 3"
    },
    "accelerator": "GPU"
  },
  "cells": [
    {
      "cell_type": "code",
      "metadata": {
        "id": "hEfc39iX-WWC"
      },
      "source": [
        "!wget -q https://raw.githubusercontent.com/anshupandey/Machine_Learning_Training/master/datasets/image_data.zip"
      ],
      "execution_count": 1,
      "outputs": []
    },
    {
      "cell_type": "code",
      "metadata": {
        "id": "JpKYBtqS_BRt",
        "colab": {
          "base_uri": "https://localhost:8080/"
        },
        "outputId": "35e3124b-415d-4fdb-d48e-65100216fa7f"
      },
      "source": [
        "!unzip image_data.zip"
      ],
      "execution_count": 2,
      "outputs": [
        {
          "output_type": "stream",
          "text": [
            "Archive:  image_data.zip\n",
            "  inflating: image_data/car3.png     \n",
            "  inflating: image_data/cat.jpeg     \n",
            "  inflating: image_data/cat2.jpg     \n",
            "   creating: image_data/data/\n",
            "   creating: image_data/data/dogs/\n",
            "  inflating: image_data/data/dogs/dog.1.jpg  \n",
            "  inflating: image_data/data/dogs/dog.10.jpg  \n",
            "  inflating: image_data/data/dogs/dog.100.jpg  \n",
            "  inflating: image_data/data/dogs/dog.101.jpg  \n",
            "  inflating: image_data/data/dogs/dog.102.jpg  \n",
            "  inflating: image_data/data/dogs/dog.103.jpg  \n",
            "  inflating: image_data/data/dogs/dog.104.jpg  \n",
            "  inflating: image_data/data/dogs/dog.105.jpg  \n",
            "  inflating: image_data/data/dogs/dog.106.jpg  \n",
            "  inflating: image_data/data/dogs/dog.107.jpg  \n",
            "  inflating: image_data/data/dogs/dog.108.jpg  \n",
            "  inflating: image_data/data/dogs/dog.109.jpg  \n",
            "  inflating: image_data/data/dogs/dog.11.jpg  \n",
            "  inflating: image_data/data/dogs/dog.110.jpg  \n",
            "  inflating: image_data/data/dogs/dog.111.jpg  \n",
            "  inflating: image_data/data/dogs/dog.112.jpg  \n",
            "  inflating: image_data/data/dogs/dog.113.jpg  \n",
            "  inflating: image_data/data/dogs/dog.114.jpg  \n",
            "  inflating: image_data/data/dogs/dog.115.jpg  \n",
            "  inflating: image_data/data/dogs/dog.116.jpg  \n",
            "  inflating: image_data/data/dogs/dog.117.jpg  \n",
            "  inflating: image_data/data/dogs/dog.118.jpg  \n",
            "  inflating: image_data/data/dogs/dog.119.jpg  \n",
            "  inflating: image_data/data/dogs/dog.12.jpg  \n",
            "  inflating: image_data/data/dogs/dog.120.jpg  \n",
            "  inflating: image_data/data/dogs/dog.121.jpg  \n",
            "  inflating: image_data/data/dogs/dog.122.jpg  \n",
            "  inflating: image_data/data/dogs/dog.123.jpg  \n",
            "  inflating: image_data/data/dogs/dog.124.jpg  \n",
            "  inflating: image_data/data/dogs/dog.125.jpg  \n",
            "  inflating: image_data/data/dogs/dog.126.jpg  \n",
            "  inflating: image_data/data/dogs/dog.127.jpg  \n",
            "  inflating: image_data/data/dogs/dog.128.jpg  \n",
            "  inflating: image_data/data/dogs/dog.129.jpg  \n",
            "  inflating: image_data/data/dogs/dog.13.jpg  \n",
            "  inflating: image_data/data/dogs/dog.130.jpg  \n",
            "  inflating: image_data/data/dogs/dog.131.jpg  \n",
            "  inflating: image_data/data/dogs/dog.132.jpg  \n",
            "  inflating: image_data/data/dogs/dog.133.jpg  \n",
            "  inflating: image_data/data/dogs/dog.134.jpg  \n",
            "  inflating: image_data/data/dogs/dog.135.jpg  \n",
            "  inflating: image_data/data/dogs/dog.136.jpg  \n",
            "  inflating: image_data/data/dogs/dog.137.jpg  \n",
            "  inflating: image_data/data/dogs/dog.138.jpg  \n",
            "  inflating: image_data/data/dogs/dog.139.jpg  \n",
            "  inflating: image_data/data/dogs/dog.14.jpg  \n",
            "  inflating: image_data/data/dogs/dog.140.jpg  \n",
            "  inflating: image_data/data/dogs/dog.141.jpg  \n",
            "  inflating: image_data/data/dogs/dog.142.jpg  \n",
            "  inflating: image_data/data/dogs/dog.143.jpg  \n",
            "  inflating: image_data/data/dogs/dog.144.jpg  \n",
            "  inflating: image_data/data/dogs/dog.145.jpg  \n",
            "  inflating: image_data/data/dogs/dog.146.jpg  \n",
            "  inflating: image_data/data/dogs/dog.147.jpg  \n",
            "  inflating: image_data/data/dogs/dog.148.jpg  \n",
            "  inflating: image_data/data/dogs/dog.149.jpg  \n",
            "  inflating: image_data/data/dogs/dog.15.jpg  \n",
            "  inflating: image_data/data/dogs/dog.150.jpg  \n",
            "  inflating: image_data/data/dogs/dog.151.jpg  \n",
            "  inflating: image_data/data/dogs/dog.152.jpg  \n",
            "  inflating: image_data/data/dogs/dog.153.jpg  \n",
            "  inflating: image_data/data/dogs/dog.154.jpg  \n",
            "  inflating: image_data/data/dogs/dog.155.jpg  \n",
            "  inflating: image_data/data/dogs/dog.156.jpg  \n",
            "  inflating: image_data/data/dogs/dog.157.jpg  \n",
            "  inflating: image_data/data/dogs/dog.158.jpg  \n",
            "  inflating: image_data/data/dogs/dog.159.jpg  \n",
            "  inflating: image_data/data/dogs/dog.16.jpg  \n",
            "  inflating: image_data/data/dogs/dog.160.jpg  \n",
            "  inflating: image_data/data/dogs/dog.161.jpg  \n",
            "  inflating: image_data/data/dogs/dog.162.jpg  \n",
            "  inflating: image_data/data/dogs/dog.163.jpg  \n",
            "  inflating: image_data/data/dogs/dog.164.jpg  \n",
            "  inflating: image_data/data/dogs/dog.165.jpg  \n",
            "  inflating: image_data/data/dogs/dog.166.jpg  \n",
            "  inflating: image_data/data/dogs/dog.167.jpg  \n",
            "  inflating: image_data/data/dogs/dog.168.jpg  \n",
            "  inflating: image_data/data/dogs/dog.169.jpg  \n",
            "  inflating: image_data/data/dogs/dog.17.jpg  \n",
            "  inflating: image_data/data/dogs/dog.170.jpg  \n",
            "  inflating: image_data/data/dogs/dog.171.jpg  \n",
            "  inflating: image_data/data/dogs/dog.172.jpg  \n",
            "  inflating: image_data/data/dogs/dog.173.jpg  \n",
            "  inflating: image_data/data/dogs/dog.174.jpg  \n",
            "  inflating: image_data/data/dogs/dog.175.jpg  \n",
            "  inflating: image_data/data/dogs/dog.176.jpg  \n",
            "  inflating: image_data/data/dogs/dog.177.jpg  \n",
            "  inflating: image_data/data/dogs/dog.178.jpg  \n",
            "  inflating: image_data/data/dogs/dog.179.jpg  \n",
            "  inflating: image_data/data/dogs/dog.18.jpg  \n",
            "  inflating: image_data/data/dogs/dog.180.jpg  \n",
            "  inflating: image_data/data/dogs/dog.181.jpg  \n",
            "  inflating: image_data/data/dogs/dog.182.jpg  \n",
            "  inflating: image_data/data/dogs/dog.183.jpg  \n",
            "  inflating: image_data/data/dogs/dog.184.jpg  \n",
            "  inflating: image_data/data/dogs/dog.185.jpg  \n",
            "  inflating: image_data/data/dogs/dog.186.jpg  \n",
            "  inflating: image_data/data/dogs/dog.187.jpg  \n",
            "  inflating: image_data/data/dogs/dog.188.jpg  \n",
            "  inflating: image_data/data/dogs/dog.189.jpg  \n",
            "  inflating: image_data/data/dogs/dog.19.jpg  \n",
            "  inflating: image_data/data/dogs/dog.190.jpg  \n",
            "  inflating: image_data/data/dogs/dog.191.jpg  \n",
            "  inflating: image_data/data/dogs/dog.192.jpg  \n",
            "  inflating: image_data/data/dogs/dog.193.jpg  \n",
            "  inflating: image_data/data/dogs/dog.194.jpg  \n",
            "  inflating: image_data/data/dogs/dog.195.jpg  \n",
            "  inflating: image_data/data/dogs/dog.196.jpg  \n",
            "  inflating: image_data/data/dogs/dog.197.jpg  \n",
            "  inflating: image_data/data/dogs/dog.198.jpg  \n",
            "  inflating: image_data/data/dogs/dog.199.jpg  \n",
            "  inflating: image_data/data/dogs/dog.2.jpg  \n",
            "  inflating: image_data/data/dogs/dog.20.jpg  \n",
            "  inflating: image_data/data/dogs/dog.200.jpg  \n",
            "  inflating: image_data/data/dogs/dog.201.jpg  \n",
            "  inflating: image_data/data/dogs/dog.202.jpg  \n",
            "  inflating: image_data/data/dogs/dog.21.jpg  \n",
            "  inflating: image_data/data/dogs/dog.22.jpg  \n",
            "  inflating: image_data/data/dogs/dog.23.jpg  \n",
            "  inflating: image_data/data/dogs/dog.24.jpg  \n",
            "  inflating: image_data/data/dogs/dog.25.jpg  \n",
            "  inflating: image_data/data/dogs/dog.26.jpg  \n",
            "  inflating: image_data/data/dogs/dog.27.jpg  \n",
            "  inflating: image_data/data/dogs/dog.28.jpg  \n",
            "  inflating: image_data/data/dogs/dog.29.jpg  \n",
            "  inflating: image_data/data/dogs/dog.3.jpg  \n",
            "  inflating: image_data/data/dogs/dog.30.jpg  \n",
            "  inflating: image_data/data/dogs/dog.31.jpg  \n",
            "  inflating: image_data/data/dogs/dog.32.jpg  \n",
            "  inflating: image_data/data/dogs/dog.33.jpg  \n",
            "  inflating: image_data/data/dogs/dog.34.jpg  \n",
            "  inflating: image_data/data/dogs/dog.35.jpg  \n",
            "  inflating: image_data/data/dogs/dog.36.jpg  \n",
            "  inflating: image_data/data/dogs/dog.37.jpg  \n",
            "  inflating: image_data/data/dogs/dog.38.jpg  \n",
            "  inflating: image_data/data/dogs/dog.39.jpg  \n",
            "  inflating: image_data/data/dogs/dog.4.jpg  \n",
            "  inflating: image_data/data/dogs/dog.40.jpg  \n",
            "  inflating: image_data/data/dogs/dog.41.jpg  \n",
            "  inflating: image_data/data/dogs/dog.42.jpg  \n",
            "  inflating: image_data/data/dogs/dog.43.jpg  \n",
            "  inflating: image_data/data/dogs/dog.44.jpg  \n",
            "  inflating: image_data/data/dogs/dog.45.jpg  \n",
            "  inflating: image_data/data/dogs/dog.46.jpg  \n",
            "  inflating: image_data/data/dogs/dog.47.jpg  \n",
            "  inflating: image_data/data/dogs/dog.48.jpg  \n",
            "  inflating: image_data/data/dogs/dog.49.jpg  \n",
            "  inflating: image_data/data/dogs/dog.5.jpg  \n",
            "  inflating: image_data/data/dogs/dog.50.jpg  \n",
            "  inflating: image_data/data/dogs/dog.51.jpg  \n",
            "  inflating: image_data/data/dogs/dog.52.jpg  \n",
            "  inflating: image_data/data/dogs/dog.53.jpg  \n",
            "  inflating: image_data/data/dogs/dog.54.jpg  \n",
            "  inflating: image_data/data/dogs/dog.55.jpg  \n",
            "  inflating: image_data/data/dogs/dog.56.jpg  \n",
            "  inflating: image_data/data/dogs/dog.57.jpg  \n",
            "  inflating: image_data/data/dogs/dog.58.jpg  \n",
            "  inflating: image_data/data/dogs/dog.59.jpg  \n",
            "  inflating: image_data/data/dogs/dog.6.jpg  \n",
            "  inflating: image_data/data/dogs/dog.60.jpg  \n",
            "  inflating: image_data/data/dogs/dog.61.jpg  \n",
            "  inflating: image_data/data/dogs/dog.62.jpg  \n",
            "  inflating: image_data/data/dogs/dog.63.jpg  \n",
            "  inflating: image_data/data/dogs/dog.64.jpg  \n",
            "  inflating: image_data/data/dogs/dog.65.jpg  \n",
            "  inflating: image_data/data/dogs/dog.66.jpg  \n",
            "  inflating: image_data/data/dogs/dog.67.jpg  \n",
            "  inflating: image_data/data/dogs/dog.68.jpg  \n",
            "  inflating: image_data/data/dogs/dog.69.jpg  \n",
            "  inflating: image_data/data/dogs/dog.7.jpg  \n",
            "  inflating: image_data/data/dogs/dog.70.jpg  \n",
            "  inflating: image_data/data/dogs/dog.71.jpg  \n",
            "  inflating: image_data/data/dogs/dog.72.jpg  \n",
            "  inflating: image_data/data/dogs/dog.73.jpg  \n",
            "  inflating: image_data/data/dogs/dog.74.jpg  \n",
            "  inflating: image_data/data/dogs/dog.75.jpg  \n",
            "  inflating: image_data/data/dogs/dog.76.jpg  \n",
            "  inflating: image_data/data/dogs/dog.77.jpg  \n",
            "  inflating: image_data/data/dogs/dog.78.jpg  \n",
            "  inflating: image_data/data/dogs/dog.79.jpg  \n",
            "  inflating: image_data/data/dogs/dog.8.jpg  \n",
            "  inflating: image_data/data/dogs/dog.80.jpg  \n",
            "  inflating: image_data/data/dogs/dog.81.jpg  \n",
            "  inflating: image_data/data/dogs/dog.82.jpg  \n",
            "  inflating: image_data/data/dogs/dog.83.jpg  \n",
            "  inflating: image_data/data/dogs/dog.84.jpg  \n",
            "  inflating: image_data/data/dogs/dog.85.jpg  \n",
            "  inflating: image_data/data/dogs/dog.86.jpg  \n",
            "  inflating: image_data/data/dogs/dog.87.jpg  \n",
            "  inflating: image_data/data/dogs/dog.88.jpg  \n",
            "  inflating: image_data/data/dogs/dog.89.jpg  \n",
            "  inflating: image_data/data/dogs/dog.9.jpg  \n",
            "  inflating: image_data/data/dogs/dog.90.jpg  \n",
            "  inflating: image_data/data/dogs/dog.91.jpg  \n",
            "  inflating: image_data/data/dogs/dog.92.jpg  \n",
            "  inflating: image_data/data/dogs/dog.93.jpg  \n",
            "  inflating: image_data/data/dogs/dog.94.jpg  \n",
            "  inflating: image_data/data/dogs/dog.95.jpg  \n",
            "  inflating: image_data/data/dogs/dog.96.jpg  \n",
            "  inflating: image_data/data/dogs/dog.97.jpg  \n",
            "  inflating: image_data/data/dogs/dog.98.jpg  \n",
            "  inflating: image_data/data/dogs/dog.99.jpg  \n",
            "   creating: image_data/data/horses/\n",
            "  inflating: image_data/data/horses/horse-1.jpg  \n",
            "  inflating: image_data/data/horses/horse-10.jpg  \n",
            "  inflating: image_data/data/horses/horse-100.jpg  \n",
            "  inflating: image_data/data/horses/horse-101.jpg  \n",
            "  inflating: image_data/data/horses/horse-102.jpg  \n",
            "  inflating: image_data/data/horses/horse-103.jpg  \n",
            "  inflating: image_data/data/horses/horse-104.jpg  \n",
            "  inflating: image_data/data/horses/horse-105.jpg  \n",
            "  inflating: image_data/data/horses/horse-106.jpg  \n",
            "  inflating: image_data/data/horses/horse-107.jpg  \n",
            "  inflating: image_data/data/horses/horse-108.jpg  \n",
            "  inflating: image_data/data/horses/horse-109.jpg  \n",
            "  inflating: image_data/data/horses/horse-11.jpg  \n",
            "  inflating: image_data/data/horses/horse-110.jpg  \n",
            "  inflating: image_data/data/horses/horse-111.jpg  \n",
            "  inflating: image_data/data/horses/horse-112.jpg  \n",
            "  inflating: image_data/data/horses/horse-113.jpg  \n",
            "  inflating: image_data/data/horses/horse-114.jpg  \n",
            "  inflating: image_data/data/horses/horse-115.jpg  \n",
            "  inflating: image_data/data/horses/horse-116.jpg  \n",
            "  inflating: image_data/data/horses/horse-117.jpg  \n",
            "  inflating: image_data/data/horses/horse-118.jpg  \n",
            "  inflating: image_data/data/horses/horse-119.jpg  \n",
            "  inflating: image_data/data/horses/horse-12.jpg  \n",
            "  inflating: image_data/data/horses/horse-120.jpg  \n",
            "  inflating: image_data/data/horses/horse-121.jpg  \n",
            "  inflating: image_data/data/horses/horse-122.jpg  \n",
            "  inflating: image_data/data/horses/horse-123.jpg  \n",
            "  inflating: image_data/data/horses/horse-124.jpg  \n",
            "  inflating: image_data/data/horses/horse-125.jpg  \n",
            "  inflating: image_data/data/horses/horse-126.jpg  \n",
            "  inflating: image_data/data/horses/horse-127.jpg  \n",
            "  inflating: image_data/data/horses/horse-128.jpg  \n",
            "  inflating: image_data/data/horses/horse-129.jpg  \n",
            "  inflating: image_data/data/horses/horse-13.jpg  \n",
            "  inflating: image_data/data/horses/horse-130.jpg  \n",
            "  inflating: image_data/data/horses/horse-131.jpg  \n",
            "  inflating: image_data/data/horses/horse-132.jpg  \n",
            "  inflating: image_data/data/horses/horse-133.jpg  \n",
            "  inflating: image_data/data/horses/horse-134.jpg  \n",
            "  inflating: image_data/data/horses/horse-135.jpg  \n",
            "  inflating: image_data/data/horses/horse-136.jpg  \n",
            "  inflating: image_data/data/horses/horse-137.jpg  \n",
            "  inflating: image_data/data/horses/horse-138.jpg  \n",
            "  inflating: image_data/data/horses/horse-139.jpg  \n",
            "  inflating: image_data/data/horses/horse-14.jpg  \n",
            "  inflating: image_data/data/horses/horse-140.jpg  \n",
            "  inflating: image_data/data/horses/horse-141.jpg  \n",
            "  inflating: image_data/data/horses/horse-142.jpg  \n",
            "  inflating: image_data/data/horses/horse-143.jpg  \n",
            "  inflating: image_data/data/horses/horse-144.jpg  \n",
            "  inflating: image_data/data/horses/horse-145.jpg  \n",
            "  inflating: image_data/data/horses/horse-146.jpg  \n",
            "  inflating: image_data/data/horses/horse-147.jpg  \n",
            "  inflating: image_data/data/horses/horse-148.jpg  \n",
            "  inflating: image_data/data/horses/horse-149.jpg  \n",
            "  inflating: image_data/data/horses/horse-15.jpg  \n",
            "  inflating: image_data/data/horses/horse-150.jpg  \n",
            "  inflating: image_data/data/horses/horse-151.jpg  \n",
            "  inflating: image_data/data/horses/horse-152.jpg  \n",
            "  inflating: image_data/data/horses/horse-153.jpg  \n",
            "  inflating: image_data/data/horses/horse-154.jpg  \n",
            "  inflating: image_data/data/horses/horse-155.jpg  \n",
            "  inflating: image_data/data/horses/horse-156.jpg  \n",
            "  inflating: image_data/data/horses/horse-157.jpg  \n",
            "  inflating: image_data/data/horses/horse-158.jpg  \n",
            "  inflating: image_data/data/horses/horse-159.jpg  \n",
            "  inflating: image_data/data/horses/horse-16.jpg  \n",
            "  inflating: image_data/data/horses/horse-160.jpg  \n",
            "  inflating: image_data/data/horses/horse-161.jpg  \n",
            "  inflating: image_data/data/horses/horse-162.jpg  \n",
            "  inflating: image_data/data/horses/horse-163.jpg  \n",
            "  inflating: image_data/data/horses/horse-164.jpg  \n",
            "  inflating: image_data/data/horses/horse-165.jpg  \n",
            "  inflating: image_data/data/horses/horse-166.jpg  \n",
            "  inflating: image_data/data/horses/horse-167.jpg  \n",
            "  inflating: image_data/data/horses/horse-168.jpg  \n",
            "  inflating: image_data/data/horses/horse-169.jpg  \n",
            "  inflating: image_data/data/horses/horse-17.jpg  \n",
            "  inflating: image_data/data/horses/horse-170.jpg  \n",
            "  inflating: image_data/data/horses/horse-171.jpg  \n",
            "  inflating: image_data/data/horses/horse-172.jpg  \n",
            "  inflating: image_data/data/horses/horse-173.jpg  \n",
            "  inflating: image_data/data/horses/horse-174.jpg  \n",
            "  inflating: image_data/data/horses/horse-175.jpg  \n",
            "  inflating: image_data/data/horses/horse-176.jpg  \n",
            "  inflating: image_data/data/horses/horse-177.jpg  \n",
            "  inflating: image_data/data/horses/horse-178.jpg  \n",
            "  inflating: image_data/data/horses/horse-179.jpg  \n",
            "  inflating: image_data/data/horses/horse-18.jpg  \n",
            "  inflating: image_data/data/horses/horse-180.jpg  \n",
            "  inflating: image_data/data/horses/horse-181.jpg  \n",
            "  inflating: image_data/data/horses/horse-182.jpg  \n",
            "  inflating: image_data/data/horses/horse-183.jpg  \n",
            "  inflating: image_data/data/horses/horse-184.jpg  \n",
            "  inflating: image_data/data/horses/horse-185.jpg  \n",
            "  inflating: image_data/data/horses/horse-186.jpg  \n",
            "  inflating: image_data/data/horses/horse-187.jpg  \n",
            "  inflating: image_data/data/horses/horse-188.jpg  \n",
            "  inflating: image_data/data/horses/horse-189.jpg  \n",
            "  inflating: image_data/data/horses/horse-19.jpg  \n",
            "  inflating: image_data/data/horses/horse-190.jpg  \n",
            "  inflating: image_data/data/horses/horse-191.jpg  \n",
            "  inflating: image_data/data/horses/horse-192.jpg  \n",
            "  inflating: image_data/data/horses/horse-193.jpg  \n",
            "  inflating: image_data/data/horses/horse-194.jpg  \n",
            "  inflating: image_data/data/horses/horse-195.jpg  \n",
            "  inflating: image_data/data/horses/horse-196.jpg  \n",
            "  inflating: image_data/data/horses/horse-197.jpg  \n",
            "  inflating: image_data/data/horses/horse-198.jpg  \n",
            "  inflating: image_data/data/horses/horse-199.jpg  \n",
            "  inflating: image_data/data/horses/horse-2.jpg  \n",
            "  inflating: image_data/data/horses/horse-20.jpg  \n",
            "  inflating: image_data/data/horses/horse-200.jpg  \n",
            "  inflating: image_data/data/horses/horse-201.jpg  \n",
            "  inflating: image_data/data/horses/horse-202.jpg  \n",
            "  inflating: image_data/data/horses/horse-21.jpg  \n",
            "  inflating: image_data/data/horses/horse-22.jpg  \n",
            "  inflating: image_data/data/horses/horse-23.jpg  \n",
            "  inflating: image_data/data/horses/horse-24.jpg  \n",
            "  inflating: image_data/data/horses/horse-25.jpg  \n",
            "  inflating: image_data/data/horses/horse-26.jpg  \n",
            "  inflating: image_data/data/horses/horse-27.jpg  \n",
            "  inflating: image_data/data/horses/horse-28.jpg  \n",
            "  inflating: image_data/data/horses/horse-29.jpg  \n",
            "  inflating: image_data/data/horses/horse-3.jpg  \n",
            "  inflating: image_data/data/horses/horse-30.jpg  \n",
            "  inflating: image_data/data/horses/horse-31.jpg  \n",
            "  inflating: image_data/data/horses/horse-32.jpg  \n",
            "  inflating: image_data/data/horses/horse-33.jpg  \n",
            "  inflating: image_data/data/horses/horse-34.jpg  \n",
            "  inflating: image_data/data/horses/horse-35.jpg  \n",
            "  inflating: image_data/data/horses/horse-36.jpg  \n",
            "  inflating: image_data/data/horses/horse-37.jpg  \n",
            "  inflating: image_data/data/horses/horse-38.jpg  \n",
            "  inflating: image_data/data/horses/horse-39.jpg  \n",
            "  inflating: image_data/data/horses/horse-4.jpg  \n",
            "  inflating: image_data/data/horses/horse-40.jpg  \n",
            "  inflating: image_data/data/horses/horse-41.jpg  \n",
            "  inflating: image_data/data/horses/horse-42.jpg  \n",
            "  inflating: image_data/data/horses/horse-43.jpg  \n",
            "  inflating: image_data/data/horses/horse-44.jpg  \n",
            "  inflating: image_data/data/horses/horse-45.jpg  \n",
            "  inflating: image_data/data/horses/horse-46.jpg  \n",
            "  inflating: image_data/data/horses/horse-47.jpg  \n",
            "  inflating: image_data/data/horses/horse-48.jpg  \n",
            "  inflating: image_data/data/horses/horse-49.jpg  \n",
            "  inflating: image_data/data/horses/horse-5.jpg  \n",
            "  inflating: image_data/data/horses/horse-50.jpg  \n",
            "  inflating: image_data/data/horses/horse-51.jpg  \n",
            "  inflating: image_data/data/horses/horse-52.jpg  \n",
            "  inflating: image_data/data/horses/horse-53.jpg  \n",
            "  inflating: image_data/data/horses/horse-54.jpg  \n",
            "  inflating: image_data/data/horses/horse-55.jpg  \n",
            "  inflating: image_data/data/horses/horse-56.jpg  \n",
            "  inflating: image_data/data/horses/horse-57.jpg  \n",
            "  inflating: image_data/data/horses/horse-58.jpg  \n",
            "  inflating: image_data/data/horses/horse-59.jpg  \n",
            "  inflating: image_data/data/horses/horse-6.jpg  \n",
            "  inflating: image_data/data/horses/horse-60.jpg  \n",
            "  inflating: image_data/data/horses/horse-61.jpg  \n",
            "  inflating: image_data/data/horses/horse-62.jpg  \n",
            "  inflating: image_data/data/horses/horse-63.jpg  \n",
            "  inflating: image_data/data/horses/horse-64.jpg  \n",
            "  inflating: image_data/data/horses/horse-65.jpg  \n",
            "  inflating: image_data/data/horses/horse-66.jpg  \n",
            "  inflating: image_data/data/horses/horse-67.jpg  \n",
            "  inflating: image_data/data/horses/horse-68.jpg  \n",
            "  inflating: image_data/data/horses/horse-69.jpg  \n",
            "  inflating: image_data/data/horses/horse-7.jpg  \n",
            "  inflating: image_data/data/horses/horse-70.jpg  \n",
            "  inflating: image_data/data/horses/horse-71.jpg  \n",
            "  inflating: image_data/data/horses/horse-72.jpg  \n",
            "  inflating: image_data/data/horses/horse-73.jpg  \n",
            "  inflating: image_data/data/horses/horse-74.jpg  \n",
            "  inflating: image_data/data/horses/horse-75.jpg  \n",
            "  inflating: image_data/data/horses/horse-76.jpg  \n",
            "  inflating: image_data/data/horses/horse-77.jpg  \n",
            "  inflating: image_data/data/horses/horse-78.jpg  \n",
            "  inflating: image_data/data/horses/horse-79.jpg  \n",
            "  inflating: image_data/data/horses/horse-8.jpg  \n",
            "  inflating: image_data/data/horses/horse-80.jpg  \n",
            "  inflating: image_data/data/horses/horse-81.jpg  \n",
            "  inflating: image_data/data/horses/horse-82.jpg  \n",
            "  inflating: image_data/data/horses/horse-83.jpg  \n",
            "  inflating: image_data/data/horses/horse-84.jpg  \n",
            "  inflating: image_data/data/horses/horse-85.jpg  \n",
            "  inflating: image_data/data/horses/horse-86.jpg  \n",
            "  inflating: image_data/data/horses/horse-87.jpg  \n",
            "  inflating: image_data/data/horses/horse-88.jpg  \n",
            "  inflating: image_data/data/horses/horse-89.jpg  \n",
            "  inflating: image_data/data/horses/horse-9.jpg  \n",
            "  inflating: image_data/data/horses/horse-90.jpg  \n",
            "  inflating: image_data/data/horses/horse-91.jpg  \n",
            "  inflating: image_data/data/horses/horse-92.jpg  \n",
            "  inflating: image_data/data/horses/horse-93.jpg  \n",
            "  inflating: image_data/data/horses/horse-94.jpg  \n",
            "  inflating: image_data/data/horses/horse-95.jpg  \n",
            "  inflating: image_data/data/horses/horse-96.jpg  \n",
            "  inflating: image_data/data/horses/horse-97.jpg  \n",
            "  inflating: image_data/data/horses/horse-98.jpg  \n",
            "  inflating: image_data/data/horses/horse-99.jpg  \n",
            "   creating: image_data/data/Humans/\n",
            "  inflating: image_data/data/Humans/rider-1.jpg  \n",
            "  inflating: image_data/data/Humans/rider-10.jpg  \n",
            "  inflating: image_data/data/Humans/rider-100.jpg  \n",
            "  inflating: image_data/data/Humans/rider-101.jpg  \n",
            "  inflating: image_data/data/Humans/rider-102.jpg  \n",
            "  inflating: image_data/data/Humans/rider-103.jpg  \n",
            "  inflating: image_data/data/Humans/rider-104.jpg  \n",
            "  inflating: image_data/data/Humans/rider-105.jpg  \n",
            "  inflating: image_data/data/Humans/rider-106.jpg  \n",
            "  inflating: image_data/data/Humans/rider-107.jpg  \n",
            "  inflating: image_data/data/Humans/rider-108.jpg  \n",
            "  inflating: image_data/data/Humans/rider-109.jpg  \n",
            "  inflating: image_data/data/Humans/rider-11.jpg  \n",
            "  inflating: image_data/data/Humans/rider-110.jpg  \n",
            "  inflating: image_data/data/Humans/rider-111.jpg  \n",
            "  inflating: image_data/data/Humans/rider-112.jpg  \n",
            "  inflating: image_data/data/Humans/rider-113.jpg  \n",
            "  inflating: image_data/data/Humans/rider-114.jpg  \n",
            "  inflating: image_data/data/Humans/rider-115.jpg  \n",
            "  inflating: image_data/data/Humans/rider-116.jpg  \n",
            "  inflating: image_data/data/Humans/rider-117.jpg  \n",
            "  inflating: image_data/data/Humans/rider-118.jpg  \n",
            "  inflating: image_data/data/Humans/rider-119.jpg  \n",
            "  inflating: image_data/data/Humans/rider-12.jpg  \n",
            "  inflating: image_data/data/Humans/rider-120.jpg  \n",
            "  inflating: image_data/data/Humans/rider-121.jpg  \n",
            "  inflating: image_data/data/Humans/rider-122.jpg  \n",
            "  inflating: image_data/data/Humans/rider-123.jpg  \n",
            "  inflating: image_data/data/Humans/rider-124.jpg  \n",
            "  inflating: image_data/data/Humans/rider-125.jpg  \n",
            "  inflating: image_data/data/Humans/rider-126.jpg  \n",
            "  inflating: image_data/data/Humans/rider-127.jpg  \n",
            "  inflating: image_data/data/Humans/rider-128.jpg  \n",
            "  inflating: image_data/data/Humans/rider-129.jpg  \n",
            "  inflating: image_data/data/Humans/rider-13.jpg  \n",
            "  inflating: image_data/data/Humans/rider-130.jpg  \n",
            "  inflating: image_data/data/Humans/rider-131.jpg  \n",
            "  inflating: image_data/data/Humans/rider-132.jpg  \n",
            "  inflating: image_data/data/Humans/rider-133.jpg  \n",
            "  inflating: image_data/data/Humans/rider-134.jpg  \n",
            "  inflating: image_data/data/Humans/rider-135.jpg  \n",
            "  inflating: image_data/data/Humans/rider-136.jpg  \n",
            "  inflating: image_data/data/Humans/rider-137.jpg  \n",
            "  inflating: image_data/data/Humans/rider-138.jpg  \n",
            "  inflating: image_data/data/Humans/rider-139.jpg  \n",
            "  inflating: image_data/data/Humans/rider-14.jpg  \n",
            "  inflating: image_data/data/Humans/rider-140.jpg  \n",
            "  inflating: image_data/data/Humans/rider-141.jpg  \n",
            "  inflating: image_data/data/Humans/rider-142.jpg  \n",
            "  inflating: image_data/data/Humans/rider-143.jpg  \n",
            "  inflating: image_data/data/Humans/rider-144.jpg  \n",
            "  inflating: image_data/data/Humans/rider-145.jpg  \n",
            "  inflating: image_data/data/Humans/rider-146.jpg  \n",
            "  inflating: image_data/data/Humans/rider-147.jpg  \n",
            "  inflating: image_data/data/Humans/rider-148.jpg  \n",
            "  inflating: image_data/data/Humans/rider-149.jpg  \n",
            "  inflating: image_data/data/Humans/rider-15.jpg  \n",
            "  inflating: image_data/data/Humans/rider-150.jpg  \n",
            "  inflating: image_data/data/Humans/rider-151.jpg  \n",
            "  inflating: image_data/data/Humans/rider-152.jpg  \n",
            "  inflating: image_data/data/Humans/rider-153.jpg  \n",
            "  inflating: image_data/data/Humans/rider-154.jpg  \n",
            "  inflating: image_data/data/Humans/rider-155.jpg  \n",
            "  inflating: image_data/data/Humans/rider-156.jpg  \n",
            "  inflating: image_data/data/Humans/rider-157.jpg  \n",
            "  inflating: image_data/data/Humans/rider-158.jpg  \n",
            "  inflating: image_data/data/Humans/rider-159.jpg  \n",
            "  inflating: image_data/data/Humans/rider-16.jpg  \n",
            "  inflating: image_data/data/Humans/rider-160.jpg  \n",
            "  inflating: image_data/data/Humans/rider-161.jpg  \n",
            "  inflating: image_data/data/Humans/rider-162.jpg  \n",
            "  inflating: image_data/data/Humans/rider-163.jpg  \n",
            "  inflating: image_data/data/Humans/rider-164.jpg  \n",
            "  inflating: image_data/data/Humans/rider-165.jpg  \n",
            "  inflating: image_data/data/Humans/rider-166.jpg  \n",
            "  inflating: image_data/data/Humans/rider-167.jpg  \n",
            "  inflating: image_data/data/Humans/rider-168.jpg  \n",
            "  inflating: image_data/data/Humans/rider-169.jpg  \n",
            "  inflating: image_data/data/Humans/rider-17.jpg  \n",
            "  inflating: image_data/data/Humans/rider-170.jpg  \n",
            "  inflating: image_data/data/Humans/rider-171.jpg  \n",
            "  inflating: image_data/data/Humans/rider-172.jpg  \n",
            "  inflating: image_data/data/Humans/rider-173.jpg  \n",
            "  inflating: image_data/data/Humans/rider-174.jpg  \n",
            "  inflating: image_data/data/Humans/rider-175.jpg  \n",
            "  inflating: image_data/data/Humans/rider-176.jpg  \n",
            "  inflating: image_data/data/Humans/rider-177.jpg  \n",
            "  inflating: image_data/data/Humans/rider-178.jpg  \n",
            "  inflating: image_data/data/Humans/rider-179.jpg  \n",
            "  inflating: image_data/data/Humans/rider-18.jpg  \n",
            "  inflating: image_data/data/Humans/rider-180.jpg  \n",
            "  inflating: image_data/data/Humans/rider-181.jpg  \n",
            "  inflating: image_data/data/Humans/rider-182.jpg  \n",
            "  inflating: image_data/data/Humans/rider-183.jpg  \n",
            "  inflating: image_data/data/Humans/rider-184.jpg  \n",
            "  inflating: image_data/data/Humans/rider-185.jpg  \n",
            "  inflating: image_data/data/Humans/rider-186.jpg  \n",
            "  inflating: image_data/data/Humans/rider-187.jpg  \n",
            "  inflating: image_data/data/Humans/rider-188.jpg  \n",
            "  inflating: image_data/data/Humans/rider-189.jpg  \n",
            "  inflating: image_data/data/Humans/rider-19.jpg  \n",
            "  inflating: image_data/data/Humans/rider-190.jpg  \n",
            "  inflating: image_data/data/Humans/rider-191.jpg  \n",
            "  inflating: image_data/data/Humans/rider-192.jpg  \n",
            "  inflating: image_data/data/Humans/rider-193.jpg  \n",
            "  inflating: image_data/data/Humans/rider-194.jpg  \n",
            "  inflating: image_data/data/Humans/rider-195.jpg  \n",
            "  inflating: image_data/data/Humans/rider-196.jpg  \n",
            "  inflating: image_data/data/Humans/rider-197.jpg  \n",
            "  inflating: image_data/data/Humans/rider-198.jpg  \n",
            "  inflating: image_data/data/Humans/rider-199.jpg  \n",
            "  inflating: image_data/data/Humans/rider-2.jpg  \n",
            "  inflating: image_data/data/Humans/rider-20.jpg  \n",
            "  inflating: image_data/data/Humans/rider-200.jpg  \n",
            "  inflating: image_data/data/Humans/rider-201.jpg  \n",
            "  inflating: image_data/data/Humans/rider-202.jpg  \n",
            "  inflating: image_data/data/Humans/rider-21.jpg  \n",
            "  inflating: image_data/data/Humans/rider-22.jpg  \n",
            "  inflating: image_data/data/Humans/rider-23.jpg  \n",
            "  inflating: image_data/data/Humans/rider-24.jpg  \n",
            "  inflating: image_data/data/Humans/rider-25.jpg  \n",
            "  inflating: image_data/data/Humans/rider-26.jpg  \n",
            "  inflating: image_data/data/Humans/rider-27.jpg  \n",
            "  inflating: image_data/data/Humans/rider-28.jpg  \n",
            "  inflating: image_data/data/Humans/rider-29.jpg  \n",
            "  inflating: image_data/data/Humans/rider-3.jpg  \n",
            "  inflating: image_data/data/Humans/rider-30.jpg  \n",
            "  inflating: image_data/data/Humans/rider-31.jpg  \n",
            "  inflating: image_data/data/Humans/rider-32.jpg  \n",
            "  inflating: image_data/data/Humans/rider-33.jpg  \n",
            "  inflating: image_data/data/Humans/rider-34.jpg  \n",
            "  inflating: image_data/data/Humans/rider-35.jpg  \n",
            "  inflating: image_data/data/Humans/rider-36.jpg  \n",
            "  inflating: image_data/data/Humans/rider-37.jpg  \n",
            "  inflating: image_data/data/Humans/rider-38.jpg  \n",
            "  inflating: image_data/data/Humans/rider-39.jpg  \n",
            "  inflating: image_data/data/Humans/rider-4.jpg  \n",
            "  inflating: image_data/data/Humans/rider-40.jpg  \n",
            "  inflating: image_data/data/Humans/rider-41.jpg  \n",
            "  inflating: image_data/data/Humans/rider-42.jpg  \n",
            "  inflating: image_data/data/Humans/rider-43.jpg  \n",
            "  inflating: image_data/data/Humans/rider-44.jpg  \n",
            "  inflating: image_data/data/Humans/rider-45.jpg  \n",
            "  inflating: image_data/data/Humans/rider-46.jpg  \n",
            "  inflating: image_data/data/Humans/rider-47.jpg  \n",
            "  inflating: image_data/data/Humans/rider-48.jpg  \n",
            "  inflating: image_data/data/Humans/rider-49.jpg  \n",
            "  inflating: image_data/data/Humans/rider-5.jpg  \n",
            "  inflating: image_data/data/Humans/rider-50.jpg  \n",
            "  inflating: image_data/data/Humans/rider-51.jpg  \n",
            "  inflating: image_data/data/Humans/rider-52.jpg  \n",
            "  inflating: image_data/data/Humans/rider-53.jpg  \n",
            "  inflating: image_data/data/Humans/rider-54.jpg  \n",
            "  inflating: image_data/data/Humans/rider-55.jpg  \n",
            "  inflating: image_data/data/Humans/rider-56.jpg  \n",
            "  inflating: image_data/data/Humans/rider-57.jpg  \n",
            "  inflating: image_data/data/Humans/rider-58.jpg  \n",
            "  inflating: image_data/data/Humans/rider-59.jpg  \n",
            "  inflating: image_data/data/Humans/rider-6.jpg  \n",
            "  inflating: image_data/data/Humans/rider-60.jpg  \n",
            "  inflating: image_data/data/Humans/rider-61.jpg  \n",
            "  inflating: image_data/data/Humans/rider-62.jpg  \n",
            "  inflating: image_data/data/Humans/rider-63.jpg  \n",
            "  inflating: image_data/data/Humans/rider-64.jpg  \n",
            "  inflating: image_data/data/Humans/rider-65.jpg  \n",
            "  inflating: image_data/data/Humans/rider-66.jpg  \n",
            "  inflating: image_data/data/Humans/rider-67.jpg  \n",
            "  inflating: image_data/data/Humans/rider-68.jpg  \n",
            "  inflating: image_data/data/Humans/rider-69.jpg  \n",
            "  inflating: image_data/data/Humans/rider-7.jpg  \n",
            "  inflating: image_data/data/Humans/rider-70.jpg  \n",
            "  inflating: image_data/data/Humans/rider-71.jpg  \n",
            "  inflating: image_data/data/Humans/rider-72.jpg  \n",
            "  inflating: image_data/data/Humans/rider-73.jpg  \n",
            "  inflating: image_data/data/Humans/rider-74.jpg  \n",
            "  inflating: image_data/data/Humans/rider-75.jpg  \n",
            "  inflating: image_data/data/Humans/rider-76.jpg  \n",
            "  inflating: image_data/data/Humans/rider-77.jpg  \n",
            "  inflating: image_data/data/Humans/rider-78.jpg  \n",
            "  inflating: image_data/data/Humans/rider-79.jpg  \n",
            "  inflating: image_data/data/Humans/rider-8.jpg  \n",
            "  inflating: image_data/data/Humans/rider-80.jpg  \n",
            "  inflating: image_data/data/Humans/rider-81.jpg  \n",
            "  inflating: image_data/data/Humans/rider-82.jpg  \n",
            "  inflating: image_data/data/Humans/rider-83.jpg  \n",
            "  inflating: image_data/data/Humans/rider-84.jpg  \n",
            "  inflating: image_data/data/Humans/rider-85.jpg  \n",
            "  inflating: image_data/data/Humans/rider-86.jpg  \n",
            "  inflating: image_data/data/Humans/rider-87.jpg  \n",
            "  inflating: image_data/data/Humans/rider-88.jpg  \n",
            "  inflating: image_data/data/Humans/rider-89.jpg  \n",
            "  inflating: image_data/data/Humans/rider-9.jpg  \n",
            "  inflating: image_data/data/Humans/rider-90.jpg  \n",
            "  inflating: image_data/data/Humans/rider-91.jpg  \n",
            "  inflating: image_data/data/Humans/rider-92.jpg  \n",
            "  inflating: image_data/data/Humans/rider-93.jpg  \n",
            "  inflating: image_data/data/Humans/rider-94.jpg  \n",
            "  inflating: image_data/data/Humans/rider-95.jpg  \n",
            "  inflating: image_data/data/Humans/rider-96.jpg  \n",
            "  inflating: image_data/data/Humans/rider-97.jpg  \n",
            "  inflating: image_data/data/Humans/rider-98.jpg  \n",
            "  inflating: image_data/data/Humans/rider-99.jpg  \n",
            "  inflating: image_data/dhoni125.png  \n",
            "  inflating: image_data/dhoni126.jpg  \n",
            "  inflating: image_data/dhoni-kohli.jpg  \n",
            "  inflating: image_data/dhonikohli1.jpg  \n",
            "  inflating: image_data/dhonikohli2.jpg  \n",
            "  inflating: image_data/dhonikohli3.jpg  \n",
            "  inflating: image_data/dkk.jpg      \n",
            "  inflating: image_data/haarcascade_frontalface_alt.xml  \n",
            "  inflating: image_data/haarcascadeeye.xml  \n",
            "  inflating: image_data/happy1.jpg   \n",
            "  inflating: image_data/happy2.jpg   \n",
            "  inflating: image_data/happy3.jpg   \n",
            " extracting: image_data/images.png   \n",
            "  inflating: image_data/np.jpg       \n",
            "  inflating: image_data/np2.jpg      \n",
            "  inflating: image_data/np3.jpg      \n",
            "  inflating: image_data/people.jpg   \n",
            "  inflating: image_data/testimg22.png  \n"
          ],
          "name": "stdout"
        }
      ]
    },
    {
      "cell_type": "code",
      "metadata": {
        "id": "9Rj38eMZAuVX"
      },
      "source": [
        "import numpy as np\n",
        "import matplotlib.pyplot as plt\n",
        "import os\n",
        "from tensorflow.keras.utils import to_categorical\n",
        "from tensorflow.keras.preprocessing import image"
      ],
      "execution_count": 3,
      "outputs": []
    },
    {
      "cell_type": "markdown",
      "metadata": {
        "id": "cAsE65zEEAGV"
      },
      "source": [
        "# Data Preparation"
      ]
    },
    {
      "cell_type": "code",
      "metadata": {
        "id": "EoHVm8xo_IcL",
        "colab": {
          "base_uri": "https://localhost:8080/"
        },
        "outputId": "704c0c9b-1a6d-4a9a-8eba-3f88e05a8345"
      },
      "source": [
        "main_folder = \"image_data/data/\"\n",
        "class_names = os.listdir(main_folder)\n",
        "class_names"
      ],
      "execution_count": 4,
      "outputs": [
        {
          "output_type": "execute_result",
          "data": {
            "text/plain": [
              "['dogs', 'Humans', 'horses']"
            ]
          },
          "metadata": {
            "tags": []
          },
          "execution_count": 4
        }
      ]
    },
    {
      "cell_type": "code",
      "metadata": {
        "id": "TMfiVOogA-RE"
      },
      "source": [
        "x = []\n",
        "y = []\n",
        "for folder in os.listdir(main_folder):\n",
        "  image_list = os.listdir(main_folder+folder)\n",
        "  for img_name in image_list:\n",
        "    img = image.load_img(main_folder+folder+\"/\"+img_name,target_size=(150,150))\n",
        "    img = image.img_to_array(img)\n",
        "    x.append(img)\n",
        "    y.append(class_names.index(folder))\n",
        "    "
      ],
      "execution_count": 5,
      "outputs": []
    },
    {
      "cell_type": "code",
      "metadata": {
        "id": "FAEKgRVHELgW",
        "colab": {
          "base_uri": "https://localhost:8080/"
        },
        "outputId": "75ef2d40-dbc5-47b7-bd37-78247dc476c9"
      },
      "source": [
        "print(y)"
      ],
      "execution_count": 6,
      "outputs": [
        {
          "output_type": "stream",
          "text": [
            "[0, 0, 0, 0, 0, 0, 0, 0, 0, 0, 0, 0, 0, 0, 0, 0, 0, 0, 0, 0, 0, 0, 0, 0, 0, 0, 0, 0, 0, 0, 0, 0, 0, 0, 0, 0, 0, 0, 0, 0, 0, 0, 0, 0, 0, 0, 0, 0, 0, 0, 0, 0, 0, 0, 0, 0, 0, 0, 0, 0, 0, 0, 0, 0, 0, 0, 0, 0, 0, 0, 0, 0, 0, 0, 0, 0, 0, 0, 0, 0, 0, 0, 0, 0, 0, 0, 0, 0, 0, 0, 0, 0, 0, 0, 0, 0, 0, 0, 0, 0, 0, 0, 0, 0, 0, 0, 0, 0, 0, 0, 0, 0, 0, 0, 0, 0, 0, 0, 0, 0, 0, 0, 0, 0, 0, 0, 0, 0, 0, 0, 0, 0, 0, 0, 0, 0, 0, 0, 0, 0, 0, 0, 0, 0, 0, 0, 0, 0, 0, 0, 0, 0, 0, 0, 0, 0, 0, 0, 0, 0, 0, 0, 0, 0, 0, 0, 0, 0, 0, 0, 0, 0, 0, 0, 0, 0, 0, 0, 0, 0, 0, 0, 0, 0, 0, 0, 0, 0, 0, 0, 0, 0, 0, 0, 0, 0, 0, 0, 0, 0, 0, 0, 1, 1, 1, 1, 1, 1, 1, 1, 1, 1, 1, 1, 1, 1, 1, 1, 1, 1, 1, 1, 1, 1, 1, 1, 1, 1, 1, 1, 1, 1, 1, 1, 1, 1, 1, 1, 1, 1, 1, 1, 1, 1, 1, 1, 1, 1, 1, 1, 1, 1, 1, 1, 1, 1, 1, 1, 1, 1, 1, 1, 1, 1, 1, 1, 1, 1, 1, 1, 1, 1, 1, 1, 1, 1, 1, 1, 1, 1, 1, 1, 1, 1, 1, 1, 1, 1, 1, 1, 1, 1, 1, 1, 1, 1, 1, 1, 1, 1, 1, 1, 1, 1, 1, 1, 1, 1, 1, 1, 1, 1, 1, 1, 1, 1, 1, 1, 1, 1, 1, 1, 1, 1, 1, 1, 1, 1, 1, 1, 1, 1, 1, 1, 1, 1, 1, 1, 1, 1, 1, 1, 1, 1, 1, 1, 1, 1, 1, 1, 1, 1, 1, 1, 1, 1, 1, 1, 1, 1, 1, 1, 1, 1, 1, 1, 1, 1, 1, 1, 1, 1, 1, 1, 1, 1, 1, 1, 1, 1, 1, 1, 1, 1, 1, 1, 1, 1, 1, 1, 1, 1, 1, 1, 1, 1, 1, 1, 1, 1, 1, 1, 1, 1, 2, 2, 2, 2, 2, 2, 2, 2, 2, 2, 2, 2, 2, 2, 2, 2, 2, 2, 2, 2, 2, 2, 2, 2, 2, 2, 2, 2, 2, 2, 2, 2, 2, 2, 2, 2, 2, 2, 2, 2, 2, 2, 2, 2, 2, 2, 2, 2, 2, 2, 2, 2, 2, 2, 2, 2, 2, 2, 2, 2, 2, 2, 2, 2, 2, 2, 2, 2, 2, 2, 2, 2, 2, 2, 2, 2, 2, 2, 2, 2, 2, 2, 2, 2, 2, 2, 2, 2, 2, 2, 2, 2, 2, 2, 2, 2, 2, 2, 2, 2, 2, 2, 2, 2, 2, 2, 2, 2, 2, 2, 2, 2, 2, 2, 2, 2, 2, 2, 2, 2, 2, 2, 2, 2, 2, 2, 2, 2, 2, 2, 2, 2, 2, 2, 2, 2, 2, 2, 2, 2, 2, 2, 2, 2, 2, 2, 2, 2, 2, 2, 2, 2, 2, 2, 2, 2, 2, 2, 2, 2, 2, 2, 2, 2, 2, 2, 2, 2, 2, 2, 2, 2, 2, 2, 2, 2, 2, 2, 2, 2, 2, 2, 2, 2, 2, 2, 2, 2, 2, 2, 2, 2, 2, 2, 2, 2, 2, 2, 2, 2, 2, 2]\n"
          ],
          "name": "stdout"
        }
      ]
    },
    {
      "cell_type": "code",
      "metadata": {
        "id": "XYh6DoOPBM3t",
        "colab": {
          "base_uri": "https://localhost:8080/"
        },
        "outputId": "97fabbb7-3bda-485a-89a9-fe59105122de"
      },
      "source": [
        "x = np.array(x)\n",
        "print(x.shape)\n",
        "y = to_categorical(y)# onehot encode the labels\n",
        "print(y.shape)"
      ],
      "execution_count": 7,
      "outputs": [
        {
          "output_type": "stream",
          "text": [
            "(606, 150, 150, 3)\n",
            "(606, 3)\n"
          ],
          "name": "stdout"
        }
      ]
    },
    {
      "cell_type": "code",
      "metadata": {
        "id": "sRsDgA5wr-S5"
      },
      "source": [
        "#scale the data\n",
        "x = x/255"
      ],
      "execution_count": 8,
      "outputs": []
    },
    {
      "cell_type": "code",
      "metadata": {
        "id": "n6dMvg1JDBru",
        "colab": {
          "base_uri": "https://localhost:8080/"
        },
        "outputId": "e8299266-3c93-4f69-fb68-c8a613a7452d"
      },
      "source": [
        "print(y)"
      ],
      "execution_count": 9,
      "outputs": [
        {
          "output_type": "stream",
          "text": [
            "[[1. 0. 0.]\n",
            " [1. 0. 0.]\n",
            " [1. 0. 0.]\n",
            " ...\n",
            " [0. 0. 1.]\n",
            " [0. 0. 1.]\n",
            " [0. 0. 1.]]\n"
          ],
          "name": "stdout"
        }
      ]
    },
    {
      "cell_type": "code",
      "metadata": {
        "id": "Uic5I6HxsKlw"
      },
      "source": [
        "#split the data into train and test set\n",
        "from sklearn.model_selection import train_test_split\n",
        "xtrain,xtest,ytrain,ytest = train_test_split(x,y,test_size=0.2,random_state=5)"
      ],
      "execution_count": 10,
      "outputs": []
    },
    {
      "cell_type": "markdown",
      "metadata": {
        "id": "1bmDIgOVEkdR"
      },
      "source": [
        "# Modelling without transfer learning"
      ]
    },
    {
      "cell_type": "code",
      "metadata": {
        "id": "uaqqvMCxEFMt"
      },
      "source": [
        "from tensorflow.keras import models,layers"
      ],
      "execution_count": 11,
      "outputs": []
    },
    {
      "cell_type": "code",
      "metadata": {
        "id": "gsMjyNVtsPBI"
      },
      "source": [
        "model = models.Sequential()\n",
        "\n",
        "model.add(layers.Conv2D(filters=20,kernel_size=(5,5),input_shape=(150,150,3),activation = 'relu'))\n",
        "model.add(layers.Conv2D(30,(5,5),activation='relu'))\n",
        "\n",
        "model.add(layers.MaxPooling2D(pool_size=(2,2)))\n",
        "model.add(layers.Dropout(0.5))\n",
        "\n",
        "model.add(layers.Conv2D(40,(3,3),activation='relu'))\n",
        "model.add(layers.Conv2D(60,(3,3),activation='relu'))\n",
        "model.add(layers.MaxPooling2D(pool_size=(2,2)))\n",
        "\n",
        "model.add(layers.Flatten())\n",
        "model.add(layers.Dense(180,activation='relu'))\n",
        "model.add(layers.Dropout(0.5))\n",
        "\n",
        "model.add(layers.Dense(100,activation='relu'))\n",
        "model.add(layers.Dense(3,activation='softmax'))"
      ],
      "execution_count": 12,
      "outputs": []
    },
    {
      "cell_type": "code",
      "metadata": {
        "id": "MB1PWYoFGD22",
        "colab": {
          "base_uri": "https://localhost:8080/"
        },
        "outputId": "835666a1-e776-42e1-a966-b05d591273d2"
      },
      "source": [
        "model.compile(loss='categorical_crossentropy',optimizer='adam',metrics=['accuracy'])\n",
        "model.fit(xtrain,ytrain,batch_size=32,epochs=20,validation_data=(xtest,ytest))"
      ],
      "execution_count": 13,
      "outputs": [
        {
          "output_type": "stream",
          "text": [
            "Epoch 1/20\n",
            "16/16 [==============================] - 34s 103ms/step - loss: 1.5676 - accuracy: 0.3430 - val_loss: 1.0986 - val_accuracy: 0.3361\n",
            "Epoch 2/20\n",
            "16/16 [==============================] - 1s 49ms/step - loss: 1.0995 - accuracy: 0.3264 - val_loss: 1.0990 - val_accuracy: 0.3115\n",
            "Epoch 3/20\n",
            "16/16 [==============================] - 1s 50ms/step - loss: 1.0983 - accuracy: 0.3430 - val_loss: 1.0991 - val_accuracy: 0.3115\n",
            "Epoch 4/20\n",
            "16/16 [==============================] - 1s 50ms/step - loss: 1.0979 - accuracy: 0.3430 - val_loss: 1.0960 - val_accuracy: 0.3361\n",
            "Epoch 5/20\n",
            "16/16 [==============================] - 1s 49ms/step - loss: 1.0915 - accuracy: 0.4236 - val_loss: 1.0873 - val_accuracy: 0.3361\n",
            "Epoch 6/20\n",
            "16/16 [==============================] - 1s 50ms/step - loss: 1.0892 - accuracy: 0.4029 - val_loss: 1.0843 - val_accuracy: 0.3361\n",
            "Epoch 7/20\n",
            "16/16 [==============================] - 1s 50ms/step - loss: 1.0465 - accuracy: 0.3967 - val_loss: 1.0208 - val_accuracy: 0.3689\n",
            "Epoch 8/20\n",
            "16/16 [==============================] - 1s 50ms/step - loss: 0.9216 - accuracy: 0.5517 - val_loss: 1.0036 - val_accuracy: 0.5492\n",
            "Epoch 9/20\n",
            "16/16 [==============================] - 1s 49ms/step - loss: 0.7584 - accuracy: 0.6880 - val_loss: 1.1616 - val_accuracy: 0.4836\n",
            "Epoch 10/20\n",
            "16/16 [==============================] - 1s 50ms/step - loss: 0.6403 - accuracy: 0.7397 - val_loss: 1.0553 - val_accuracy: 0.5738\n",
            "Epoch 11/20\n",
            "16/16 [==============================] - 1s 50ms/step - loss: 0.5472 - accuracy: 0.8037 - val_loss: 1.1898 - val_accuracy: 0.5820\n",
            "Epoch 12/20\n",
            "16/16 [==============================] - 1s 51ms/step - loss: 0.4273 - accuracy: 0.8430 - val_loss: 1.1937 - val_accuracy: 0.5902\n",
            "Epoch 13/20\n",
            "16/16 [==============================] - 1s 50ms/step - loss: 0.3280 - accuracy: 0.8760 - val_loss: 1.4497 - val_accuracy: 0.6148\n",
            "Epoch 14/20\n",
            "16/16 [==============================] - 1s 51ms/step - loss: 0.2893 - accuracy: 0.8905 - val_loss: 1.3561 - val_accuracy: 0.6475\n",
            "Epoch 15/20\n",
            "16/16 [==============================] - 1s 50ms/step - loss: 0.2344 - accuracy: 0.9174 - val_loss: 1.8887 - val_accuracy: 0.5656\n",
            "Epoch 16/20\n",
            "16/16 [==============================] - 1s 50ms/step - loss: 0.1538 - accuracy: 0.9463 - val_loss: 1.7131 - val_accuracy: 0.5902\n",
            "Epoch 17/20\n",
            "16/16 [==============================] - 1s 50ms/step - loss: 0.1263 - accuracy: 0.9587 - val_loss: 1.8714 - val_accuracy: 0.5574\n",
            "Epoch 18/20\n",
            "16/16 [==============================] - 1s 50ms/step - loss: 0.1370 - accuracy: 0.9607 - val_loss: 2.2056 - val_accuracy: 0.6066\n",
            "Epoch 19/20\n",
            "16/16 [==============================] - 1s 50ms/step - loss: 0.1371 - accuracy: 0.9545 - val_loss: 1.8069 - val_accuracy: 0.5984\n",
            "Epoch 20/20\n",
            "16/16 [==============================] - 1s 50ms/step - loss: 0.0720 - accuracy: 0.9711 - val_loss: 2.7735 - val_accuracy: 0.5902\n"
          ],
          "name": "stdout"
        },
        {
          "output_type": "execute_result",
          "data": {
            "text/plain": [
              "<tensorflow.python.keras.callbacks.History at 0x7f7ab012a390>"
            ]
          },
          "metadata": {
            "tags": []
          },
          "execution_count": 13
        }
      ]
    },
    {
      "cell_type": "code",
      "metadata": {
        "id": "16U70Z-Fsihc",
        "colab": {
          "base_uri": "https://localhost:8080/"
        },
        "outputId": "47e9fb3a-0683-45a5-8099-fa97bf39cde7"
      },
      "source": [
        "model.summary()"
      ],
      "execution_count": 14,
      "outputs": [
        {
          "output_type": "stream",
          "text": [
            "Model: \"sequential\"\n",
            "_________________________________________________________________\n",
            "Layer (type)                 Output Shape              Param #   \n",
            "=================================================================\n",
            "conv2d (Conv2D)              (None, 146, 146, 20)      1520      \n",
            "_________________________________________________________________\n",
            "conv2d_1 (Conv2D)            (None, 142, 142, 30)      15030     \n",
            "_________________________________________________________________\n",
            "max_pooling2d (MaxPooling2D) (None, 71, 71, 30)        0         \n",
            "_________________________________________________________________\n",
            "dropout (Dropout)            (None, 71, 71, 30)        0         \n",
            "_________________________________________________________________\n",
            "conv2d_2 (Conv2D)            (None, 69, 69, 40)        10840     \n",
            "_________________________________________________________________\n",
            "conv2d_3 (Conv2D)            (None, 67, 67, 60)        21660     \n",
            "_________________________________________________________________\n",
            "max_pooling2d_1 (MaxPooling2 (None, 33, 33, 60)        0         \n",
            "_________________________________________________________________\n",
            "flatten (Flatten)            (None, 65340)             0         \n",
            "_________________________________________________________________\n",
            "dense (Dense)                (None, 180)               11761380  \n",
            "_________________________________________________________________\n",
            "dropout_1 (Dropout)          (None, 180)               0         \n",
            "_________________________________________________________________\n",
            "dense_1 (Dense)              (None, 100)               18100     \n",
            "_________________________________________________________________\n",
            "dense_2 (Dense)              (None, 3)                 303       \n",
            "=================================================================\n",
            "Total params: 11,828,833\n",
            "Trainable params: 11,828,833\n",
            "Non-trainable params: 0\n",
            "_________________________________________________________________\n"
          ],
          "name": "stdout"
        }
      ]
    },
    {
      "cell_type": "markdown",
      "metadata": {
        "id": "JYbPIAGZNROp"
      },
      "source": [
        "#Overfitting"
      ]
    },
    {
      "cell_type": "markdown",
      "metadata": {
        "id": "ASKfFgZjNWAQ"
      },
      "source": [
        "Data augmentation"
      ]
    },
    {
      "cell_type": "code",
      "metadata": {
        "id": "P3Prm0etNOkG"
      },
      "source": [
        "from tensorflow import keras\n",
        "\n",
        "data_augmentation = keras.Sequential(\n",
        "  [\n",
        "    layers.experimental.preprocessing.RandomFlip(\"horizontal\", \n",
        "                                                 input_shape=(150,\n",
        "                                                              150,\n",
        "                                                              3)),\n",
        "    layers.experimental.preprocessing.RandomRotation(0.1),\n",
        "    layers.experimental.preprocessing.RandomZoom(0.1),\n",
        "  ]\n",
        ")"
      ],
      "execution_count": 15,
      "outputs": []
    },
    {
      "cell_type": "code",
      "metadata": {
        "id": "C_dB9kplNvkY"
      },
      "source": [
        "model = models.Sequential()\n",
        "\n",
        "model.add(layers.Conv2D(filters=20,kernel_size=(5,5),input_shape=(150,150,3),activation = 'relu'))\n",
        "model.add(layers.Conv2D(30,(5,5),activation='relu'))\n",
        "\n",
        "model.add(layers.MaxPooling2D(pool_size=(2,2)))\n",
        "model.add(layers.Dropout(0.7))\n",
        "\n",
        "model.add(layers.Conv2D(40,(3,3),activation='relu'))\n",
        "model.add(layers.Conv2D(60,(3,3),activation='relu'))\n",
        "\n",
        "model.add(layers.MaxPooling2D(pool_size=(2,2)))\n",
        "model.add(layers.Dropout(0.7))\n",
        "model.add(layers.Flatten())\n",
        "\n",
        "model.add(layers.Dense(180,activation='relu'))\n",
        "model.add(layers.Dropout(0.7))\n",
        "model.add(layers.Dense(100,activation='relu'))\n",
        "model.add(layers.Dense(3,activation='softmax'))"
      ],
      "execution_count": 16,
      "outputs": []
    },
    {
      "cell_type": "code",
      "metadata": {
        "id": "Ppb-33JKUAJv"
      },
      "source": [
        "import tensorflow as tf\n",
        "Adam = tf.keras.optimizers.Adam(\n",
        "       learning_rate=0.001, beta_1=0.9, beta_2=0.999, epsilon=1e-07, amsgrad=False,\n",
        "       name='Adam'\n",
        "       )"
      ],
      "execution_count": 17,
      "outputs": []
    },
    {
      "cell_type": "code",
      "metadata": {
        "colab": {
          "base_uri": "https://localhost:8080/"
        },
        "id": "LBnJ8u4tOd_U",
        "outputId": "7a201cae-d06f-4e98-b4bb-ebc61c49950e"
      },
      "source": [
        "model.compile(loss='categorical_crossentropy', optimizer=Adam, metrics=['accuracy'])\n",
        "model.fit(xtrain,ytrain,batch_size=32,epochs=20,validation_data=(xtest,ytest))"
      ],
      "execution_count": 56,
      "outputs": [
        {
          "output_type": "stream",
          "text": [
            "Epoch 1/20\n",
            "16/16 [==============================] - 2s 65ms/step - loss: 1.0334 - accuracy: 0.6198 - val_loss: 1.0880 - val_accuracy: 0.3607\n",
            "Epoch 2/20\n",
            "16/16 [==============================] - 1s 51ms/step - loss: 1.0869 - accuracy: 0.4504 - val_loss: 1.1051 - val_accuracy: 0.3115\n",
            "Epoch 3/20\n",
            "16/16 [==============================] - 1s 51ms/step - loss: 1.0449 - accuracy: 0.4669 - val_loss: 1.0795 - val_accuracy: 0.4016\n",
            "Epoch 4/20\n",
            "16/16 [==============================] - 1s 51ms/step - loss: 1.2756 - accuracy: 0.4587 - val_loss: 1.0872 - val_accuracy: 0.3197\n",
            "Epoch 5/20\n",
            "16/16 [==============================] - 1s 51ms/step - loss: 0.9969 - accuracy: 0.5331 - val_loss: 1.0633 - val_accuracy: 0.4262\n",
            "Epoch 6/20\n",
            "16/16 [==============================] - 1s 52ms/step - loss: 1.0265 - accuracy: 0.4876 - val_loss: 1.0065 - val_accuracy: 0.5000\n",
            "Epoch 7/20\n",
            "16/16 [==============================] - 1s 52ms/step - loss: 0.9435 - accuracy: 0.5372 - val_loss: 1.0472 - val_accuracy: 0.4426\n",
            "Epoch 8/20\n",
            "16/16 [==============================] - 1s 52ms/step - loss: 0.9157 - accuracy: 0.5826 - val_loss: 1.0329 - val_accuracy: 0.5164\n",
            "Epoch 9/20\n",
            "16/16 [==============================] - 1s 51ms/step - loss: 0.9672 - accuracy: 0.5331 - val_loss: 1.0371 - val_accuracy: 0.4262\n",
            "Epoch 10/20\n",
            "16/16 [==============================] - 1s 51ms/step - loss: 0.8670 - accuracy: 0.5661 - val_loss: 0.9538 - val_accuracy: 0.5820\n",
            "Epoch 11/20\n",
            "16/16 [==============================] - 1s 51ms/step - loss: 0.7931 - accuracy: 0.6612 - val_loss: 0.9104 - val_accuracy: 0.5984\n",
            "Epoch 12/20\n",
            "16/16 [==============================] - 1s 51ms/step - loss: 0.7960 - accuracy: 0.6653 - val_loss: 0.9054 - val_accuracy: 0.5656\n",
            "Epoch 13/20\n",
            "16/16 [==============================] - 1s 52ms/step - loss: 0.6757 - accuracy: 0.7252 - val_loss: 0.9592 - val_accuracy: 0.5738\n",
            "Epoch 14/20\n",
            "16/16 [==============================] - 1s 52ms/step - loss: 0.6645 - accuracy: 0.7252 - val_loss: 0.9483 - val_accuracy: 0.5984\n",
            "Epoch 15/20\n",
            "16/16 [==============================] - 1s 51ms/step - loss: 0.8560 - accuracy: 0.6384 - val_loss: 1.0155 - val_accuracy: 0.5410\n",
            "Epoch 16/20\n",
            "16/16 [==============================] - 1s 52ms/step - loss: 0.9790 - accuracy: 0.5599 - val_loss: 1.0009 - val_accuracy: 0.5164\n",
            "Epoch 17/20\n",
            "16/16 [==============================] - 1s 52ms/step - loss: 0.9186 - accuracy: 0.6033 - val_loss: 1.0221 - val_accuracy: 0.5328\n",
            "Epoch 18/20\n",
            "16/16 [==============================] - 1s 52ms/step - loss: 0.7811 - accuracy: 0.6467 - val_loss: 0.9301 - val_accuracy: 0.5902\n",
            "Epoch 19/20\n",
            "16/16 [==============================] - 1s 52ms/step - loss: 0.7093 - accuracy: 0.7273 - val_loss: 0.9497 - val_accuracy: 0.5410\n",
            "Epoch 20/20\n",
            "16/16 [==============================] - 1s 52ms/step - loss: 0.6339 - accuracy: 0.7562 - val_loss: 0.9084 - val_accuracy: 0.6148\n"
          ],
          "name": "stdout"
        },
        {
          "output_type": "execute_result",
          "data": {
            "text/plain": [
              "<tensorflow.python.keras.callbacks.History at 0x7f7922460c10>"
            ]
          },
          "metadata": {
            "tags": []
          },
          "execution_count": 56
        }
      ]
    },
    {
      "cell_type": "code",
      "metadata": {
        "id": "aUiII6n_OejJ"
      },
      "source": [
        "model.summary()"
      ],
      "execution_count": null,
      "outputs": []
    },
    {
      "cell_type": "markdown",
      "metadata": {
        "id": "RyaQn9AjIyHG"
      },
      "source": [
        "# Transfer Learning using ResNet50"
      ]
    },
    {
      "cell_type": "code",
      "metadata": {
        "id": "gE78K7HbHcoe"
      },
      "source": [
        "from tensorflow.keras.applications import resnet50\n",
        "\n",
        "model2 = resnet50.ResNet50(weights='imagenet')\n",
        "model2.summary()"
      ],
      "execution_count": null,
      "outputs": []
    },
    {
      "cell_type": "code",
      "metadata": {
        "id": "Bx6ehwapJKfd"
      },
      "source": [
        "# load the model without last layer\n",
        "\n",
        "input_layer = layers.Input(shape=(150,150,3))\n",
        "\n",
        "model2 = resnet50.ResNet50(weights='imagenet',include_top=False,input_tensor=input_layer)\n",
        "model2.summary()"
      ],
      "execution_count": null,
      "outputs": []
    },
    {
      "cell_type": "code",
      "metadata": {
        "id": "dJdP-f9oKt2E"
      },
      "source": [
        "last_layer = model2.output\n",
        "\n",
        "flat = layers.Flatten()(last_layer)\n",
        "output_layer = layers.Dense(3,activation='softmax')(flat)\n",
        "\n",
        "new_model = models.Model(inputs=input_layer,outputs=output_layer)\n",
        "new_model.summary()"
      ],
      "execution_count": null,
      "outputs": []
    },
    {
      "cell_type": "code",
      "metadata": {
        "id": "8YITJbPBMkS_"
      },
      "source": [
        "# we will freeze all layers except the last layer\n",
        "for layer in new_model.layers[:-1]:\n",
        "  layer.trainable=False"
      ],
      "execution_count": 41,
      "outputs": []
    },
    {
      "cell_type": "code",
      "metadata": {
        "id": "iW9q0xUdtCPB"
      },
      "source": [
        "new_model.summary()"
      ],
      "execution_count": null,
      "outputs": []
    },
    {
      "cell_type": "code",
      "metadata": {
        "id": "dAQjmK_1Qe_g"
      },
      "source": [
        "x = []\n",
        "y = []\n",
        "for folder in os.listdir(main_folder):\n",
        "  image_list = os.listdir(main_folder+folder)\n",
        "  for img_name in image_list:\n",
        "    img = image.load_img(main_folder+folder+\"/\"+img_name,target_size=(150,150))\n",
        "    img = image.img_to_array(img)\n",
        "    img = resnet50.preprocess_input(img)\n",
        "    x.append(img)\n",
        "    y.append(class_names.index(folder))\n",
        "    "
      ],
      "execution_count": 43,
      "outputs": []
    },
    {
      "cell_type": "code",
      "metadata": {
        "id": "qdJZE4apSLES",
        "colab": {
          "base_uri": "https://localhost:8080/"
        },
        "outputId": "eddc4a60-b69a-4b38-f27c-b93f33cda636"
      },
      "source": [
        "x = np.array(x)\n",
        "print(x.shape)\n",
        "y = to_categorical(y)# onehot encode the labels\n",
        "print(y.shape)"
      ],
      "execution_count": 44,
      "outputs": [
        {
          "output_type": "stream",
          "text": [
            "(606, 150, 150, 3)\n",
            "(606, 3)\n"
          ],
          "name": "stdout"
        }
      ]
    },
    {
      "cell_type": "code",
      "metadata": {
        "id": "N8BA8GfwSQOR"
      },
      "source": [
        "from sklearn.model_selection import train_test_split\n",
        "xtrain,xtest,ytrain,ytest = train_test_split(x,y,test_size=0.2,random_state=5)"
      ],
      "execution_count": 45,
      "outputs": []
    },
    {
      "cell_type": "code",
      "metadata": {
        "id": "HP6_iCGlSVga",
        "colab": {
          "base_uri": "https://localhost:8080/"
        },
        "outputId": "38c1e591-b9d8-428c-dda8-741e66b138b7"
      },
      "source": [
        "new_model.compile(loss='categorical_crossentropy',optimizer='adam',metrics=['accuracy'])\n",
        "new_model.fit(xtrain,ytrain,epochs=20,batch_size=64,verbose=True,validation_data=(xtest,ytest))"
      ],
      "execution_count": 46,
      "outputs": [
        {
          "output_type": "stream",
          "text": [
            "Epoch 1/20\n",
            "8/8 [==============================] - 7s 477ms/step - loss: 0.6775 - accuracy: 0.8781 - val_loss: 0.1122 - val_accuracy: 0.9918\n",
            "Epoch 2/20\n",
            "8/8 [==============================] - 1s 134ms/step - loss: 0.0760 - accuracy: 0.9897 - val_loss: 0.0612 - val_accuracy: 0.9836\n",
            "Epoch 3/20\n",
            "8/8 [==============================] - 1s 134ms/step - loss: 1.3275e-07 - accuracy: 1.0000 - val_loss: 0.0519 - val_accuracy: 0.9836\n",
            "Epoch 4/20\n",
            "8/8 [==============================] - 1s 135ms/step - loss: 0.0055 - accuracy: 0.9979 - val_loss: 0.0027 - val_accuracy: 1.0000\n",
            "Epoch 5/20\n",
            "8/8 [==============================] - 1s 134ms/step - loss: 5.3446e-08 - accuracy: 1.0000 - val_loss: 9.5835e-05 - val_accuracy: 1.0000\n",
            "Epoch 6/20\n",
            "8/8 [==============================] - 1s 134ms/step - loss: 2.9802e-08 - accuracy: 1.0000 - val_loss: 1.9237e-05 - val_accuracy: 1.0000\n",
            "Epoch 7/20\n",
            "8/8 [==============================] - 1s 135ms/step - loss: 2.4876e-08 - accuracy: 1.0000 - val_loss: 9.3281e-06 - val_accuracy: 1.0000\n",
            "Epoch 8/20\n",
            "8/8 [==============================] - 1s 135ms/step - loss: 2.1921e-08 - accuracy: 1.0000 - val_loss: 6.7429e-06 - val_accuracy: 1.0000\n",
            "Epoch 9/20\n",
            "8/8 [==============================] - 1s 133ms/step - loss: 2.1182e-08 - accuracy: 1.0000 - val_loss: 5.8289e-06 - val_accuracy: 1.0000\n",
            "Epoch 10/20\n",
            "8/8 [==============================] - 1s 134ms/step - loss: 2.1674e-08 - accuracy: 1.0000 - val_loss: 5.4569e-06 - val_accuracy: 1.0000\n",
            "Epoch 11/20\n",
            "8/8 [==============================] - 1s 135ms/step - loss: 2.1921e-08 - accuracy: 1.0000 - val_loss: 5.2987e-06 - val_accuracy: 1.0000\n",
            "Epoch 12/20\n",
            "8/8 [==============================] - 1s 135ms/step - loss: 2.2167e-08 - accuracy: 1.0000 - val_loss: 5.2293e-06 - val_accuracy: 1.0000\n",
            "Epoch 13/20\n",
            "8/8 [==============================] - 1s 135ms/step - loss: 2.1921e-08 - accuracy: 1.0000 - val_loss: 5.2000e-06 - val_accuracy: 1.0000\n",
            "Epoch 14/20\n",
            "8/8 [==============================] - 1s 134ms/step - loss: 2.1674e-08 - accuracy: 1.0000 - val_loss: 5.1863e-06 - val_accuracy: 1.0000\n",
            "Epoch 15/20\n",
            "8/8 [==============================] - 1s 135ms/step - loss: 2.1921e-08 - accuracy: 1.0000 - val_loss: 5.1824e-06 - val_accuracy: 1.0000\n",
            "Epoch 16/20\n",
            "8/8 [==============================] - 1s 135ms/step - loss: 2.1674e-08 - accuracy: 1.0000 - val_loss: 5.1805e-06 - val_accuracy: 1.0000\n",
            "Epoch 17/20\n",
            "8/8 [==============================] - 1s 136ms/step - loss: 2.1428e-08 - accuracy: 1.0000 - val_loss: 5.1815e-06 - val_accuracy: 1.0000\n",
            "Epoch 18/20\n",
            "8/8 [==============================] - 1s 136ms/step - loss: 2.1182e-08 - accuracy: 1.0000 - val_loss: 5.1805e-06 - val_accuracy: 1.0000\n",
            "Epoch 19/20\n",
            "8/8 [==============================] - 1s 135ms/step - loss: 2.1182e-08 - accuracy: 1.0000 - val_loss: 5.1824e-06 - val_accuracy: 1.0000\n",
            "Epoch 20/20\n",
            "8/8 [==============================] - 1s 134ms/step - loss: 2.0935e-08 - accuracy: 1.0000 - val_loss: 5.1844e-06 - val_accuracy: 1.0000\n"
          ],
          "name": "stdout"
        },
        {
          "output_type": "execute_result",
          "data": {
            "text/plain": [
              "<tensorflow.python.keras.callbacks.History at 0x7f792c1727d0>"
            ]
          },
          "metadata": {
            "tags": []
          },
          "execution_count": 46
        }
      ]
    },
    {
      "cell_type": "code",
      "metadata": {
        "id": "cXFW8l_kSgxD"
      },
      "source": [
        "from tensorflow.keras.applications import resnet50\n",
        "\n",
        "def predict(img_name):\n",
        "  img = image.load_img(img_name,target_size=(150,150))\n",
        "  img = image.img_to_array(img)\n",
        "  plt.imshow(img.astype('int32'))\n",
        "  plt.show()\n",
        "  img = resnet50.preprocess_input(img)\n",
        "  prediction = model.predict(img.reshape(1,150,150,3))\n",
        "  output = np.argmax(prediction)\n",
        "  print(class_names[output])"
      ],
      "execution_count": 57,
      "outputs": []
    },
    {
      "cell_type": "code",
      "metadata": {
        "id": "lmqilYltToJV"
      },
      "source": [
        "!wget -q https://www.cdc.gov/healthypets/images/pets/cute-dog-headshot.jpg\n",
        "#!wget -q https://thumbs.dreamstime.com/b/southeast-asian-businessman-full-length-body-confident-young-standing-isolated-white-background-malay-male-model-95956732.jpg\n",
        "#!wget -q https://theplaidhorse.s3.amazonaws.com/media/uploads/2020/08/AdobeStock_326500445-1-scaled.jpeg"
      ],
      "execution_count": 58,
      "outputs": []
    },
    {
      "cell_type": "code",
      "metadata": {
        "id": "CiDUV2qeTxCb",
        "colab": {
          "base_uri": "https://localhost:8080/",
          "height": 286
        },
        "outputId": "adc32085-9a70-46ce-ba72-3fea02a35a07"
      },
      "source": [
        "predict(\"cute-dog-headshot.jpg\")"
      ],
      "execution_count": 59,
      "outputs": [
        {
          "output_type": "display_data",
          "data": {
            "image/png": "[encoded data removed]",
            "text/plain": [
              "<Figure size 432x288 with 1 Axes>"
            ]
          },
          "metadata": {
            "tags": [],
            "needs_background": "light"
          }
        },
        {
          "output_type": "stream",
          "text": [
            "dogs\n"
          ],
          "name": "stdout"
        }
      ]
    },
    {
      "cell_type": "code",
      "metadata": {
        "id": "osU4_4VRT368"
      },
      "source": [
        ""
      ],
      "execution_count": 31,
      "outputs": []
    }
  ]
}